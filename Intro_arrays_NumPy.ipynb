{
  "nbformat": 4,
  "nbformat_minor": 0,
  "metadata": {
    "colab": {
      "provenance": [],
      "authorship_tag": "ABX9TyNBpq3DXGMcZOyDkVwwMfQS",
      "include_colab_link": true
    },
    "kernelspec": {
      "name": "python3",
      "display_name": "Python 3"
    },
    "language_info": {
      "name": "python"
    }
  },
  "cells": [
    {
      "cell_type": "markdown",
      "metadata": {
        "id": "view-in-github",
        "colab_type": "text"
      },
      "source": [
        "<a href=\"https://colab.research.google.com/github/SimonBIgnacio/primeros_codigos/blob/main/Intro_arrays_NumPy.ipynb\" target=\"_parent\"><img src=\"https://colab.research.google.com/assets/colab-badge.svg\" alt=\"Open In Colab\"/></a>"
      ]
    },
    {
      "cell_type": "code",
      "execution_count": 17,
      "metadata": {
        "colab": {
          "base_uri": "https://localhost:8080/"
        },
        "id": "nOr1bL226z3u",
        "outputId": "eb932b1d-5cd0-4f1a-e6ff-806d42b62311"
      },
      "outputs": [
        {
          "output_type": "stream",
          "name": "stdout",
          "text": [
            "[1.75 0.5  5.  ]\n",
            "[ 2  1 10  7]\n",
            "[ 2.   1.  10.   7.   4.5  3.   4.   9. ]\n",
            "[ 2.   1.  10.   7.   4.5  3.   4. ]\n",
            "[ 2.   1.  12.   7.   4.5  3.   4. ]\n",
            "[17 40  1  2  3 16  5]\n",
            "[17 39  1  2  3 16  5]\n",
            "[34.  39.  12.  14.  13.5 48.  20. ]\n",
            "[0 0 2 1 6 0 2]\n",
            "[ 0.   0.  12.   3.5 13.5  0.   4. ]\n",
            "[34.  39.  24.  17.5 27.  48.  24. ]\n",
            "213.5\n"
          ]
        }
      ],
      "source": [
        "precio = [2,1,10]\n",
        "cantidad_vendida = [17,40,1]\n",
        "costo = [0.25, 0.50, 5]\n",
        "\n",
        "import numpy as np\n",
        "precio_array = np.array(precio)\n",
        "cantidad_vendida_array = np.array(cantidad_vendida)\n",
        "costo_array = np.array(costo)\n",
        "\n",
        "ganancia_array = precio_array - costo_array\n",
        "print(ganancia_array)\n",
        "\n",
        "precio_array = np.append(precio_array,[7])\n",
        "print(precio_array)\n",
        "\n",
        "precio_array = np.append(precio_array,[4.5,3,4,9])\n",
        "print(precio_array)\n",
        "\n",
        "precio_array = np.delete(precio_array,-1)\n",
        "print(precio_array)\n",
        "\n",
        "precio_array[2] = 12\n",
        "print(precio_array)\n",
        "\n",
        "cantidad_vendida_array = np.append(cantidad_vendida_array,[2,3,16,5])\n",
        "print(cantidad_vendida_array)\n",
        "\n",
        "cantidad_vendida_array[1] = 39\n",
        "print(cantidad_vendida_array)\n",
        "\n",
        "pxq_array = cantidad_vendida_array * precio_array #aqui deje PxQ que es venta. quizas puedas puedes descontar los costos pero no tenemos los costos de los datos agregados\n",
        "print(pxq_array)\n",
        "\n",
        "merma = [0,0,2,1,6,0,2]\n",
        "merma_array = np.array(merma)\n",
        "print(merma_array)\n",
        "\n",
        "pxq_merma_array = merma_array * precio_array/2\n",
        "print(pxq_merma_array)\n",
        "\n",
        "pxq_total_array = pxq_array + pxq_merma_array\n",
        "print(pxq_total_array)\n",
        "\n",
        "suma_total = np.sum(pxq_total_array)\n",
        "print(suma_total)\n",
        "\n"
      ]
    }
  ]
}